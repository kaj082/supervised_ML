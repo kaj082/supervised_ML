{
  "nbformat": 4,
  "nbformat_minor": 0,
  "metadata": {
    "colab": {
      "name": "Untitled1.ipynb",
      "provenance": [],
      "collapsed_sections": [],
      "mount_file_id": "1gd_VdrtC6j3FCBuDFtYDWRI51ALU7uMv",
      "authorship_tag": "ABX9TyMma8v0WhXUgNJubIkODKeI",
      "include_colab_link": true
    },
    "kernelspec": {
      "name": "python3",
      "display_name": "Python 3"
    },
    "language_info": {
      "name": "python"
    }
  },
  "cells": [
    {
      "cell_type": "markdown",
      "metadata": {
        "id": "view-in-github",
        "colab_type": "text"
      },
      "source": [
        "<a href=\"https://colab.research.google.com/github/kaj082/supervised_ML/blob/main/supervised_ML_Task1.ipynb\" target=\"_parent\"><img src=\"https://colab.research.google.com/assets/colab-badge.svg\" alt=\"Open In Colab\"/></a>"
      ]
    },
    {
      "cell_type": "code",
      "metadata": {
        "id": "3t0tpGrs-4Xi"
      },
      "source": [
        ""
      ],
      "execution_count": null,
      "outputs": []
    },
    {
      "cell_type": "markdown",
      "metadata": {
        "id": "X-vwzDdo_KTP"
      },
      "source": [
        "**SPARK** **FOUNDATION**-**GRIPSEPTEMBER21**\n",
        "\n",
        "\n",
        "**Data** **Science** **and** **Business** **Analytics** **Intern**\n",
        "\n",
        "\n",
        "AUTHOR NAME: Kajal Dafada\n",
        "\n",
        "\n",
        "\n",
        "\n",
        "\n",
        "\n",
        "\n",
        "\n",
        "\n",
        "\n",
        "![Screenshot (176).png](data:image/png;base64,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)\n"
      ]
    },
    {
      "cell_type": "code",
      "metadata": {
        "id": "uWprse-IA3qS"
      },
      "source": [
        ""
      ],
      "execution_count": null,
      "outputs": []
    },
    {
      "cell_type": "markdown",
      "metadata": {
        "id": "WCn-3KQYA7O2"
      },
      "source": [
        "**TASK**:-**1** **Prediction Using Supervised ML**\n",
        "\n",
        "\n",
        " Predict the percentage of an student based on the no.of study hours.\n",
        "\n",
        "\n",
        "\n",
        " Importing Relavent Libraries"
      ]
    },
    {
      "cell_type": "code",
      "metadata": {
        "id": "k79TuxGKAv-N"
      },
      "source": [
        "import numpy as np\n",
        "import pandas as pd\n",
        "import matplotlib.pyplot as plt\n",
        "%matplotlib inline\n",
        "from sklearn.linear_model import LinearRegression"
      ],
      "execution_count": 2,
      "outputs": []
    },
    {
      "cell_type": "code",
      "metadata": {
        "id": "8YGI_HqL7qcG"
      },
      "source": [
        ""
      ],
      "execution_count": null,
      "outputs": []
    },
    {
      "cell_type": "markdown",
      "metadata": {
        "id": "WjxkIBIHAsWp"
      },
      "source": [
        "**importing data-set**"
      ]
    },
    {
      "cell_type": "code",
      "metadata": {
        "colab": {
          "base_uri": "https://localhost:8080/",
          "height": 836
        },
        "id": "imYh2qqs_3rI",
        "outputId": "f050c40f-ad7a-412c-ad5f-22c62d37515a"
      },
      "source": [
        "url = \"http://bit.ly/w-data\"\n",
        "df = pd.read_csv(url)\n",
        "print(\"The given dataset: \")\n",
        "df.head(25)"
      ],
      "execution_count": 3,
      "outputs": [
        {
          "output_type": "stream",
          "name": "stdout",
          "text": [
            "The given dataset: \n"
          ]
        },
        {
          "output_type": "execute_result",
          "data": {
            "text/html": [
              "<div>\n",
              "<style scoped>\n",
              "    .dataframe tbody tr th:only-of-type {\n",
              "        vertical-align: middle;\n",
              "    }\n",
              "\n",
              "    .dataframe tbody tr th {\n",
              "        vertical-align: top;\n",
              "    }\n",
              "\n",
              "    .dataframe thead th {\n",
              "        text-align: right;\n",
              "    }\n",
              "</style>\n",
              "<table border=\"1\" class=\"dataframe\">\n",
              "  <thead>\n",
              "    <tr style=\"text-align: right;\">\n",
              "      <th></th>\n",
              "      <th>Hours</th>\n",
              "      <th>Scores</th>\n",
              "    </tr>\n",
              "  </thead>\n",
              "  <tbody>\n",
              "    <tr>\n",
              "      <th>0</th>\n",
              "      <td>2.5</td>\n",
              "      <td>21</td>\n",
              "    </tr>\n",
              "    <tr>\n",
              "      <th>1</th>\n",
              "      <td>5.1</td>\n",
              "      <td>47</td>\n",
              "    </tr>\n",
              "    <tr>\n",
              "      <th>2</th>\n",
              "      <td>3.2</td>\n",
              "      <td>27</td>\n",
              "    </tr>\n",
              "    <tr>\n",
              "      <th>3</th>\n",
              "      <td>8.5</td>\n",
              "      <td>75</td>\n",
              "    </tr>\n",
              "    <tr>\n",
              "      <th>4</th>\n",
              "      <td>3.5</td>\n",
              "      <td>30</td>\n",
              "    </tr>\n",
              "    <tr>\n",
              "      <th>5</th>\n",
              "      <td>1.5</td>\n",
              "      <td>20</td>\n",
              "    </tr>\n",
              "    <tr>\n",
              "      <th>6</th>\n",
              "      <td>9.2</td>\n",
              "      <td>88</td>\n",
              "    </tr>\n",
              "    <tr>\n",
              "      <th>7</th>\n",
              "      <td>5.5</td>\n",
              "      <td>60</td>\n",
              "    </tr>\n",
              "    <tr>\n",
              "      <th>8</th>\n",
              "      <td>8.3</td>\n",
              "      <td>81</td>\n",
              "    </tr>\n",
              "    <tr>\n",
              "      <th>9</th>\n",
              "      <td>2.7</td>\n",
              "      <td>25</td>\n",
              "    </tr>\n",
              "    <tr>\n",
              "      <th>10</th>\n",
              "      <td>7.7</td>\n",
              "      <td>85</td>\n",
              "    </tr>\n",
              "    <tr>\n",
              "      <th>11</th>\n",
              "      <td>5.9</td>\n",
              "      <td>62</td>\n",
              "    </tr>\n",
              "    <tr>\n",
              "      <th>12</th>\n",
              "      <td>4.5</td>\n",
              "      <td>41</td>\n",
              "    </tr>\n",
              "    <tr>\n",
              "      <th>13</th>\n",
              "      <td>3.3</td>\n",
              "      <td>42</td>\n",
              "    </tr>\n",
              "    <tr>\n",
              "      <th>14</th>\n",
              "      <td>1.1</td>\n",
              "      <td>17</td>\n",
              "    </tr>\n",
              "    <tr>\n",
              "      <th>15</th>\n",
              "      <td>8.9</td>\n",
              "      <td>95</td>\n",
              "    </tr>\n",
              "    <tr>\n",
              "      <th>16</th>\n",
              "      <td>2.5</td>\n",
              "      <td>30</td>\n",
              "    </tr>\n",
              "    <tr>\n",
              "      <th>17</th>\n",
              "      <td>1.9</td>\n",
              "      <td>24</td>\n",
              "    </tr>\n",
              "    <tr>\n",
              "      <th>18</th>\n",
              "      <td>6.1</td>\n",
              "      <td>67</td>\n",
              "    </tr>\n",
              "    <tr>\n",
              "      <th>19</th>\n",
              "      <td>7.4</td>\n",
              "      <td>69</td>\n",
              "    </tr>\n",
              "    <tr>\n",
              "      <th>20</th>\n",
              "      <td>2.7</td>\n",
              "      <td>30</td>\n",
              "    </tr>\n",
              "    <tr>\n",
              "      <th>21</th>\n",
              "      <td>4.8</td>\n",
              "      <td>54</td>\n",
              "    </tr>\n",
              "    <tr>\n",
              "      <th>22</th>\n",
              "      <td>3.8</td>\n",
              "      <td>35</td>\n",
              "    </tr>\n",
              "    <tr>\n",
              "      <th>23</th>\n",
              "      <td>6.9</td>\n",
              "      <td>76</td>\n",
              "    </tr>\n",
              "    <tr>\n",
              "      <th>24</th>\n",
              "      <td>7.8</td>\n",
              "      <td>86</td>\n",
              "    </tr>\n",
              "  </tbody>\n",
              "</table>\n",
              "</div>"
            ],
            "text/plain": [
              "    Hours  Scores\n",
              "0     2.5      21\n",
              "1     5.1      47\n",
              "2     3.2      27\n",
              "3     8.5      75\n",
              "4     3.5      30\n",
              "5     1.5      20\n",
              "6     9.2      88\n",
              "7     5.5      60\n",
              "8     8.3      81\n",
              "9     2.7      25\n",
              "10    7.7      85\n",
              "11    5.9      62\n",
              "12    4.5      41\n",
              "13    3.3      42\n",
              "14    1.1      17\n",
              "15    8.9      95\n",
              "16    2.5      30\n",
              "17    1.9      24\n",
              "18    6.1      67\n",
              "19    7.4      69\n",
              "20    2.7      30\n",
              "21    4.8      54\n",
              "22    3.8      35\n",
              "23    6.9      76\n",
              "24    7.8      86"
            ]
          },
          "metadata": {},
          "execution_count": 3
        }
      ]
    },
    {
      "cell_type": "markdown",
      "metadata": {
        "id": "-euXL6mM-sXq"
      },
      "source": [
        "# New Section"
      ]
    },
    {
      "cell_type": "markdown",
      "metadata": {
        "id": "jQ8pR2AABolP"
      },
      "source": [
        "**Plotting the given data**"
      ]
    },
    {
      "cell_type": "code",
      "metadata": {
        "colab": {
          "base_uri": "https://localhost:8080/",
          "height": 295
        },
        "id": "U3Vq0Yc5Bvz9",
        "outputId": "9ca005b5-74f0-46af-e87b-85baf4f0f83c"
      },
      "source": [
        "#plotting the given data in 2-D to understand the distribution of data and the relation between scores and study hours.\n",
        "df.plot(x = \"Hours\",y = \"Scores\",style = \"o\")\n",
        "plt.title(\"Hours vs Percentage\")\n",
        "plt.xlabel(\"Hours studied(hr)--->\")\n",
        "plt.ylabel(\"Percentage score(%)--->\")\n",
        "plt.show()"
      ],
      "execution_count": 4,
      "outputs": [
        {
          "output_type": "display_data",
          "data": {
            "image/png": "[encoded data removed]",
            "text/plain": [
              "<Figure size 432x288 with 1 Axes>"
            ]
          },
          "metadata": {
            "needs_background": "light"
          }
        }
      ]
    },
    {
      "cell_type": "code",
      "metadata": {
        "id": "9KKAZSjtCxRZ"
      },
      "source": [
        ""
      ],
      "execution_count": null,
      "outputs": []
    },
    {
      "cell_type": "markdown",
      "metadata": {
        "id": "9PE45E-bC6vi"
      },
      "source": [
        "Here,We can observe that there is a positive co-relation between the number of hours studied and score obtained.\n",
        "\n",
        "**Preparing Data**"
      ]
    },
    {
      "cell_type": "code",
      "metadata": {
        "id": "zX0Lnl8sDTLh"
      },
      "source": [
        "#Selecting the values of data from the dataframe\n",
        "X = df.iloc[:,:-1].values\n",
        "Y = df.iloc[:,1].values"
      ],
      "execution_count": 5,
      "outputs": []
    },
    {
      "cell_type": "code",
      "metadata": {
        "id": "OGBYkKmLDxsA"
      },
      "source": [
        "#Splitting the data values obtained into training and testing samples:\n",
        "from sklearn.model_selection import train_test_split\n",
        "X_train,X_test,Y_train,Y_test = train_test_split(X,Y,test_size = 0.25,random_state=0)"
      ],
      "execution_count": 6,
      "outputs": []
    },
    {
      "cell_type": "code",
      "metadata": {
        "id": "pH7v0XaYEYf6"
      },
      "source": [
        ""
      ],
      "execution_count": null,
      "outputs": []
    },
    {
      "cell_type": "markdown",
      "metadata": {
        "id": "LZ9sHRodEZbw"
      },
      "source": [
        "**Training Model**"
      ]
    },
    {
      "cell_type": "code",
      "metadata": {
        "colab": {
          "base_uri": "https://localhost:8080/"
        },
        "id": "JG7ZWJD4EeVs",
        "outputId": "5ece0119-9b90-437e-c3d8-96a07f9dc263"
      },
      "source": [
        "#sample data taken for training are trained using Linear regression model's algorith\n",
        "regressor = LinearRegression()\n",
        "regressor.fit(X_train,Y_train)\n",
        "print(\"Data trained successfully\")"
      ],
      "execution_count": 7,
      "outputs": [
        {
          "output_type": "stream",
          "name": "stdout",
          "text": [
            "Data trained successfully\n"
          ]
        }
      ]
    },
    {
      "cell_type": "code",
      "metadata": {
        "id": "uveeZUoaFN3c"
      },
      "source": [
        ""
      ],
      "execution_count": null,
      "outputs": []
    },
    {
      "cell_type": "markdown",
      "metadata": {
        "id": "TH9tf-8GFPDK"
      },
      "source": [
        "**Regression line**"
      ]
    },
    {
      "cell_type": "code",
      "metadata": {
        "colab": {
          "base_uri": "https://localhost:8080/"
        },
        "id": "h0ql9-dvFWU9",
        "outputId": "ddb063e1-49f5-4172-b101-23104a861b9b"
      },
      "source": [
        "#finding the slope and intercept for the regression line\n",
        "slope = regressor.coef_\n",
        "interc = regressor.intercept_\n",
        "print(\"Slope: \",slope,\"\\nY-Intercept: \",interc)"
      ],
      "execution_count": 8,
      "outputs": [
        {
          "output_type": "stream",
          "name": "stdout",
          "text": [
            "Slope:  [9.94167834] \n",
            "Y-Intercept:  1.9322042531516601\n"
          ]
        }
      ]
    },
    {
      "cell_type": "code",
      "metadata": {
        "colab": {
          "base_uri": "https://localhost:8080/",
          "height": 265
        },
        "id": "cIwfom0rGBOe",
        "outputId": "5d7a3272-4672-4bba-a035-6d0a8500dc06"
      },
      "source": [
        "#plotting the trained regression model's output using a line question(mx+y)\n",
        "Relation = slope*X + interc\n",
        "plt.scatter(X,Y)\n",
        "plt.plot(X,Relation)\n",
        "plt.show()"
      ],
      "execution_count": 9,
      "outputs": [
        {
          "output_type": "display_data",
          "data": {
            "image/png": "[encoded data removed]",
            "text/plain": [
              "<Figure size 432x288 with 1 Axes>"
            ]
          },
          "metadata": {
            "needs_background": "light"
          }
        }
      ]
    },
    {
      "cell_type": "code",
      "metadata": {
        "id": "5yygMeBwGo-a"
      },
      "source": [
        ""
      ],
      "execution_count": null,
      "outputs": []
    },
    {
      "cell_type": "markdown",
      "metadata": {
        "id": "xx_uRMSMG04C"
      },
      "source": [
        "**Making predictions using the trained data,we are predicting the student's score using predict method.**"
      ]
    },
    {
      "cell_type": "code",
      "metadata": {
        "colab": {
          "base_uri": "https://localhost:8080/",
          "height": 399
        },
        "id": "Yxp8b9HFHGfD",
        "outputId": "4bdf00f8-b09f-4244-92d9-c48d70f1a8b6"
      },
      "source": [
        "y_pred = regressor.predict(X_test)\n",
        "print(\"Hours studied\\n\",X_test)\n",
        "df1 = pd.DataFrame({'actual score': Y_test, 'predicted score': y_pred})\n",
        "df1"
      ],
      "execution_count": 11,
      "outputs": [
        {
          "output_type": "stream",
          "name": "stdout",
          "text": [
            "Hours studied\n",
            " [[1.5]\n",
            " [3.2]\n",
            " [7.4]\n",
            " [2.5]\n",
            " [5.9]\n",
            " [3.8]\n",
            " [1.9]]\n"
          ]
        },
        {
          "output_type": "execute_result",
          "data": {
            "text/html": [
              "<div>\n",
              "<style scoped>\n",
              "    .dataframe tbody tr th:only-of-type {\n",
              "        vertical-align: middle;\n",
              "    }\n",
              "\n",
              "    .dataframe tbody tr th {\n",
              "        vertical-align: top;\n",
              "    }\n",
              "\n",
              "    .dataframe thead th {\n",
              "        text-align: right;\n",
              "    }\n",
              "</style>\n",
              "<table border=\"1\" class=\"dataframe\">\n",
              "  <thead>\n",
              "    <tr style=\"text-align: right;\">\n",
              "      <th></th>\n",
              "      <th>actual score</th>\n",
              "      <th>predicted score</th>\n",
              "    </tr>\n",
              "  </thead>\n",
              "  <tbody>\n",
              "    <tr>\n",
              "      <th>0</th>\n",
              "      <td>20</td>\n",
              "      <td>16.844722</td>\n",
              "    </tr>\n",
              "    <tr>\n",
              "      <th>1</th>\n",
              "      <td>27</td>\n",
              "      <td>33.745575</td>\n",
              "    </tr>\n",
              "    <tr>\n",
              "      <th>2</th>\n",
              "      <td>69</td>\n",
              "      <td>75.500624</td>\n",
              "    </tr>\n",
              "    <tr>\n",
              "      <th>3</th>\n",
              "      <td>30</td>\n",
              "      <td>26.786400</td>\n",
              "    </tr>\n",
              "    <tr>\n",
              "      <th>4</th>\n",
              "      <td>62</td>\n",
              "      <td>60.588106</td>\n",
              "    </tr>\n",
              "    <tr>\n",
              "      <th>5</th>\n",
              "      <td>35</td>\n",
              "      <td>39.710582</td>\n",
              "    </tr>\n",
              "    <tr>\n",
              "      <th>6</th>\n",
              "      <td>24</td>\n",
              "      <td>20.821393</td>\n",
              "    </tr>\n",
              "  </tbody>\n",
              "</table>\n",
              "</div>"
            ],
            "text/plain": [
              "   actual score  predicted score\n",
              "0            20        16.844722\n",
              "1            27        33.745575\n",
              "2            69        75.500624\n",
              "3            30        26.786400\n",
              "4            62        60.588106\n",
              "5            35        39.710582\n",
              "6            24        20.821393"
            ]
          },
          "metadata": {},
          "execution_count": 11
        }
      ]
    },
    {
      "cell_type": "code",
      "metadata": {
        "colab": {
          "base_uri": "https://localhost:8080/",
          "height": 295
        },
        "id": "yr-VzVofHugQ",
        "outputId": "916e239b-8621-4a62-bfa0-7096c6d66a25"
      },
      "source": [
        "df1.plot(kind = \"line\")\n",
        "plt.title(\"Graph for actual percentage vs predicted percentage\")\n",
        "plt.xlabel(\"student no\")\n",
        "plt.ylabel(\"percentage scored\")\n",
        "plt.show()"
      ],
      "execution_count": 12,
      "outputs": [
        {
          "output_type": "display_data",
          "data": {
            "image/png": "[encoded data removed]",
            "text/plain": [
              "<Figure size 432x288 with 1 Axes>"
            ]
          },
          "metadata": {
            "needs_background": "light"
          }
        }
      ]
    },
    {
      "cell_type": "code",
      "metadata": {
        "id": "g2MdC8uDIi1N"
      },
      "source": [
        ""
      ],
      "execution_count": null,
      "outputs": []
    },
    {
      "cell_type": "markdown",
      "metadata": {
        "id": "wt3fii_4IugH"
      },
      "source": [
        "**Get the result directly: predicting of a student who studied for 9.25 hours.**"
      ]
    },
    {
      "cell_type": "code",
      "metadata": {
        "colab": {
          "base_uri": "https://localhost:8080/"
        },
        "id": "Yc_PhZSDI9OF",
        "outputId": "6b1afd60-34be-4c4d-ad60-e346feb2e6ee"
      },
      "source": [
        "#predict function can be used to calculate the student score if the given amount of time he studied is given.\n",
        "hours= 9.25\n",
        "fin_pred = round(regressor.predict([[9.25]])[0],2)\n",
        "print(\"No of hours studied = {}\".format(hours))\n",
        "print(\"predicted score = {}\".format(fin_pred))"
      ],
      "execution_count": 13,
      "outputs": [
        {
          "output_type": "stream",
          "name": "stdout",
          "text": [
            "No of hours studied = 9.25\n",
            "predicted score = 93.89\n"
          ]
        }
      ]
    },
    {
      "cell_type": "code",
      "metadata": {
        "colab": {
          "base_uri": "https://localhost:8080/"
        },
        "id": "p7VC6bCTJ9AA",
        "outputId": "1d45d8bb-bb9a-43be-8bbb-f887f4677751"
      },
      "source": [
        "from sklearn import metrics\n",
        "print('Mean Absolute Error: ' , metrics.mean_absolute_error(Y_test,y_pred)) "
      ],
      "execution_count": 16,
      "outputs": [
        {
          "output_type": "stream",
          "name": "stdout",
          "text": [
            "Mean Absolute Error:  4.130879918502482\n"
          ]
        }
      ]
    },
    {
      "cell_type": "code",
      "metadata": {
        "id": "Dq6z0pSwKUGp"
      },
      "source": [
        ""
      ],
      "execution_count": null,
      "outputs": []
    }
  ]
}